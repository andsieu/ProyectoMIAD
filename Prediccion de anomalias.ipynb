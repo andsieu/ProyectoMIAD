{
 "cells": [
  {
   "cell_type": "markdown",
   "id": "0f7a8c6d",
   "metadata": {},
   "source": [
    "# Predicciones anomalias"
   ]
  },
  {
   "cell_type": "markdown",
   "id": "754deade",
   "metadata": {},
   "source": [
    "# Librerias"
   ]
  },
  {
   "cell_type": "code",
   "execution_count": 4,
   "id": "f3ed16bf",
   "metadata": {},
   "outputs": [],
   "source": [
    "import pandas as pd\n",
    "import numpy as np\n",
    "import matplotlib.pyplot as plt\n",
    "from sklearn.model_selection import train_test_split\n",
    "import sklearn.metrics as metrics\n",
    "from sklearn.metrics import mean_squared_error\n",
    "import tensorflow as tf\n",
    "from keras.models import Sequential\n",
    "from keras.layers import Dense\n",
    "from tensorflow.keras.models import model_from_json\n",
    "import warnings\n",
    "warnings.filterwarnings('ignore')"
   ]
  },
  {
   "cell_type": "markdown",
   "id": "59cb3806",
   "metadata": {},
   "source": [
    "# Cargue de modelos"
   ]
  },
  {
   "cell_type": "code",
   "execution_count": 5,
   "id": "b6debd0c",
   "metadata": {},
   "outputs": [],
   "source": [
    "# Cargar la arquitectura del modelo desde el archivo JSON\n",
    "with open(\"modelo_energiaReactiva.json\", \"r\") as archivo:\n",
    "    modelo_cargado_ER = archivo.read()\n",
    "\n",
    "# Reconstruir el modelo desde la arquitectura cargada\n",
    "modeloER = model_from_json(modelo_cargado_ER)\n",
    "\n",
    "# Cargar los pesos del modelo desde el archivo HDF5\n",
    "modeloER.load_weights(\"modeloER_pesos.weights.h5\")"
   ]
  },
  {
   "cell_type": "code",
   "execution_count": 6,
   "id": "d64612a1",
   "metadata": {},
   "outputs": [],
   "source": [
    "# Cargar la arquitectura del modelo desde el archivo JSON\n",
    "with open(\"modelo_energiaActiva.json\", \"r\") as archivo:\n",
    "    modelo_cargado_EA = archivo.read()\n",
    "\n",
    "# Reconstruir el modelo desde la arquitectura cargada\n",
    "modeloEA = model_from_json(modelo_cargado_EA)\n",
    "\n",
    "# Cargar los pesos del modelo desde el archivo HDF5\n",
    "modeloEA.load_weights(\"modeloEA_pesos.weights.h5\")"
   ]
  },
  {
   "cell_type": "markdown",
   "id": "a9593fdf",
   "metadata": {},
   "source": [
    "# Predicciones"
   ]
  },
  {
   "cell_type": "code",
   "execution_count": 10,
   "id": "afeec0ae",
   "metadata": {},
   "outputs": [
    {
     "name": "stdout",
     "output_type": "stream",
     "text": [
      "   idCliente  Dia  Mes   Año  Hora  Minuto\n",
      "0          1    1    4  2024     1       0\n",
      "1          1    1    4  2024     2       0\n",
      "2          1    1    4  2024     3       0\n",
      "3          1    1    4  2024     4       0\n",
      "4          1    1    4  2024     5       0\n"
     ]
    }
   ],
   "source": [
    "columnas = ['idCliente', 'Dia', 'Mes', 'Año', 'Hora', 'Minuto']\n",
    "cliente = list(range(1,31))\n",
    "dia = list(range(1,30))\n",
    "mes = 4\n",
    "año = 2024\n",
    "hora = list(range(1,25))\n",
    "minuto = 0\n",
    "\n",
    "from itertools import product\n",
    "\n",
    "# Obtener todas las combinaciones de las listas\n",
    "combinaciones = list(product(cliente, dia, [mes], [año], hora, [minuto]))\n",
    "\n",
    "# Crear el DataFrame\n",
    "df = pd.DataFrame(combinaciones, columns=columnas)\n",
    "\n",
    "# Mostrar las primeras filas del DataFrame\n",
    "print(df.head())\n"
   ]
  },
  {
   "cell_type": "code",
   "execution_count": 12,
   "id": "c2a890df",
   "metadata": {},
   "outputs": [],
   "source": [
    "scaler = StandardScaler()\n",
    "df_scaled = scaler.fit_transform(df)"
   ]
  },
  {
   "cell_type": "code",
   "execution_count": 15,
   "id": "9f160c7b",
   "metadata": {},
   "outputs": [
    {
     "name": "stdout",
     "output_type": "stream",
     "text": [
      "\u001b[1m653/653\u001b[0m \u001b[32m━━━━━━━━━━━━━━━━━━━━\u001b[0m\u001b[37m\u001b[0m \u001b[1m1s\u001b[0m 1ms/step\n"
     ]
    },
    {
     "data": {
      "text/plain": [
       "array([[3.5673783],\n",
       "       [3.5206263],\n",
       "       [3.4976845],\n",
       "       ...,\n",
       "       [0.6140872],\n",
       "       [0.5837637],\n",
       "       [0.5842141]], dtype=float32)"
      ]
     },
     "execution_count": 15,
     "metadata": {},
     "output_type": "execute_result"
    }
   ],
   "source": [
    "predEA = modeloEA.predict(df_scaled)\n",
    "predEA"
   ]
  },
  {
   "cell_type": "code",
   "execution_count": 16,
   "id": "76913f09",
   "metadata": {},
   "outputs": [
    {
     "name": "stdout",
     "output_type": "stream",
     "text": [
      "\u001b[1m653/653\u001b[0m \u001b[32m━━━━━━━━━━━━━━━━━━━━\u001b[0m\u001b[37m\u001b[0m \u001b[1m1s\u001b[0m 995us/step\n"
     ]
    },
    {
     "data": {
      "text/plain": [
       "array([[-1.4303656],\n",
       "       [-1.4278197],\n",
       "       [-1.4256393],\n",
       "       ...,\n",
       "       [ 0.557927 ],\n",
       "       [ 0.5777974],\n",
       "       [ 0.5916461]], dtype=float32)"
      ]
     },
     "execution_count": 16,
     "metadata": {},
     "output_type": "execute_result"
    }
   ],
   "source": [
    "predER = modeloER.predict(df_scaled)\n",
    "predER"
   ]
  },
  {
   "cell_type": "code",
   "execution_count": null,
   "id": "65ef6289",
   "metadata": {},
   "outputs": [],
   "source": []
  },
  {
   "cell_type": "code",
   "execution_count": null,
   "id": "b4d8cf47",
   "metadata": {},
   "outputs": [],
   "source": []
  },
  {
   "cell_type": "code",
   "execution_count": null,
   "id": "8965adc4",
   "metadata": {},
   "outputs": [],
   "source": []
  },
  {
   "cell_type": "code",
   "execution_count": null,
   "id": "6fa6007c",
   "metadata": {},
   "outputs": [],
   "source": []
  },
  {
   "cell_type": "code",
   "execution_count": null,
   "id": "eb59f4b0",
   "metadata": {},
   "outputs": [],
   "source": []
  },
  {
   "cell_type": "code",
   "execution_count": null,
   "id": "4483f806",
   "metadata": {},
   "outputs": [],
   "source": []
  }
 ],
 "metadata": {
  "kernelspec": {
   "display_name": "Python 3 (ipykernel)",
   "language": "python",
   "name": "python3"
  },
  "language_info": {
   "codemirror_mode": {
    "name": "ipython",
    "version": 3
   },
   "file_extension": ".py",
   "mimetype": "text/x-python",
   "name": "python",
   "nbconvert_exporter": "python",
   "pygments_lexer": "ipython3",
   "version": "3.11.5"
  }
 },
 "nbformat": 4,
 "nbformat_minor": 5
}
